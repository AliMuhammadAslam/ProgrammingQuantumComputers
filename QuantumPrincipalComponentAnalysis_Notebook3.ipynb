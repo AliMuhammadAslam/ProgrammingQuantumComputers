{
  "nbformat": 4,
  "nbformat_minor": 0,
  "metadata": {
    "colab": {
      "provenance": []
    },
    "kernelspec": {
      "name": "python3",
      "display_name": "Python 3"
    },
    "language_info": {
      "name": "python"
    }
  },
  "cells": [
    {
      "cell_type": "markdown",
      "source": [
        "# Section 1: Introduction to PCA and Quantum PCA (QPCA)"
      ],
      "metadata": {
        "id": "2t8E_vJx_QYI"
      }
    },
    {
      "cell_type": "markdown",
      "source": [
        "## Classical PCA – A Recap\n",
        "\n",
        "**Principal Component Analysis (PCA)** is one of the most widely used techniques in classical machine learning and data preprocessing. It is primarily employed for:\n",
        "\n",
        "- **Dimensionality Reduction**: Reducing the number of features while retaining the most important variance in the dataset.\n",
        "- **Noise Reduction**: Removing less informative components.\n",
        "- **Data Visualization**: Transforming high-dimensional data into 2D or 3D space for analysis.\n",
        "\n",
        "The core idea of PCA is to find a new basis (i.e., principal components) such that:\n",
        "- Each successive component captures the maximum possible variance.\n",
        "- Components are orthogonal to each other.\n",
        "\n",
        "### Mathematically:\n",
        "Given a dataset represented by a matrix $X$, PCA computes the **covariance matrix**:\n",
        "\n",
        "\n",
        "<center>$\\Sigma = \\frac{1}{n} X^T X$</center>\n",
        "\n",
        "\n",
        "It then solves the **eigenvalue decomposition problem**:\n",
        "\n",
        "<center>$\\Sigma \\vec{v}_i = \\lambda_i \\vec{v}_i$</center>\n",
        "\n",
        "Where:\n",
        "- $\\lambda_i$ is the variance (eigenvalue) captured by the $i$-th principal component.\n",
        "- $\\vec{v}_i$ is the eigenvector (principal component).\n",
        "\n",
        "The data is then projected onto these eigenvectors to obtain a lower-dimensional representation.\n",
        "\n",
        "---\n",
        "\n",
        "## Limitations of Classical PCA\n",
        "\n",
        "Although PCA is computationally efficient for low-dimensional datasets, it suffers from the following issues in high-dimensional or large-scale settings:\n",
        "\n",
        "- Computing and storing the covariance matrix becomes expensive.\n",
        "- Eigenvalue decomposition is computationally heavy for large $n$.\n",
        "- Not suited for real-time streaming data in quantum-native formats.\n",
        "\n",
        "---\n",
        "\n",
        "## Enter Quantum PCA (QPCA)\n",
        "\n",
        "**Quantum Principal Component Analysis (QPCA)** is a quantum algorithm that performs a PCA-like operation on a **density matrix** — a mathematical representation of a quantum state or a quantum dataset.\n",
        "\n",
        "The key idea in QPCA is that **quantum states can represent exponentially large data in a compact way**, and **quantum phase estimation** can extract the eigenvalues of a Hermitian operator (like a covariance matrix or density matrix).\n",
        "\n",
        "### Quantum Analogue:\n",
        "\n",
        "Given a density matrix $\\rho$ expressed as:\n",
        "\n",
        "<center>$\\rho = \\sum_i \\lambda_i |v_i\\rangle \\langle v_i|$</center>\n",
        "\n",
        "QPCA uses **Quantum Phase Estimation (QPE)** to estimate the eigenvalues $\\lambda_i$ and extract the corresponding eigenvectors $|v_i\\rangle$.\n",
        "\n",
        "The principal components are encoded directly into quantum states, and can in principle be used to reconstruct compressed representations or classify data.\n",
        "\n",
        "---\n",
        "\n",
        "## Why QPCA Matters\n",
        "\n",
        "- It has **exponential storage advantages** in certain scenarios.\n",
        "- It's compatible with **quantum-enhanced machine learning pipelines**.\n",
        "- It offers **new theoretical insights** into data structure via quantum state space.\n",
        "\n",
        "However, QPCA comes with caveats:\n",
        "- Requires access to multiple copies of the density matrix (difficult to prepare).\n",
        "- Quantum hardware noise and decoherence limit current practical implementations.\n",
        "- May need hybrid classical-quantum pipelines for real-world applications.\n",
        "\n",
        "---\n",
        "\n",
        "In this notebook, we will:\n",
        "- Simulate a small covariance matrix using classical data.\n",
        "- Prepare a corresponding quantum state representation.\n",
        "- Apply a simplified QPCA logic to estimate principal components using Qiskit.\n",
        "- Compare and discuss results against classical PCA."
      ],
      "metadata": {
        "id": "YDHv7ySZ_Q0A"
      }
    },
    {
      "cell_type": "markdown",
      "source": [
        "# Section 2: Theory Behind Quantum Principal Component Analysis (QPCA)"
      ],
      "metadata": {
        "id": "WbDX6QlvSb0D"
      }
    },
    {
      "cell_type": "markdown",
      "source": [
        "Quantum Principal Component Analysis (QPCA) is a quantum algorithm proposed by Lloyd, Mohseni, and Rebentrost (2014) as a quantum counterpart to classical PCA. While classical PCA operates on a covariance matrix derived from classical data, QPCA works on a **density matrix**, a mathematical object that encodes the statistical state of a quantum system.\n",
        "\n",
        "---\n",
        "\n",
        "## What is a Density Matrix?\n",
        "\n",
        "A **density matrix** $\\rho$ is a Hermitian, positive semi-definite matrix with unit trace that represents either a pure or mixed quantum state. It generalizes the concept of a quantum state vector by capturing probabilistic mixtures of quantum states.\n",
        "\n",
        "<center>$\\rho = \\sum_i p_i |\\psi_i\\rangle \\langle \\psi_i|$</center>\n",
        "\n",
        "Where:\n",
        "- $p_i$ is the probability of being in pure state $|\\psi_i\\rangle$,\n",
        "- $|\\psi_i\\rangle$ are normalized quantum state vectors,\n",
        "- $\\text{Tr}(\\rho) = 1$.\n",
        "\n",
        "For QPCA, $\\rho$ typically represents the **covariance structure** of quantum-encoded data.\n",
        "\n",
        "---\n",
        "\n",
        "## QPCA Problem Setup\n",
        "\n",
        "Assume that we are given multiple copies of a density matrix $\\rho$ such that:\n",
        "\n",
        "<center>$\\rho = \\sum_j \\lambda_j |v_j\\rangle \\langle v_j|$</center>\n",
        "\n",
        "Where:\n",
        "- $\\lambda_j$ are the **eigenvalues** (analogous to variance in PCA),\n",
        "- $|v_j\\rangle$ are the **eigenvectors** (principal components).\n",
        "\n",
        "The task of QPCA is to learn the dominant $\\lambda_j$ and $|v_j\\rangle$ — the principal components.\n",
        "\n",
        "---\n",
        "\n",
        "## The Quantum Algorithm – High-Level Steps\n",
        "\n",
        "1. **Quantum State Preparation**  \n",
        "   Prepare multiple identical copies of the density matrix $\\rho$. In practice, this can be simulated by encoding a small dataset into quantum amplitudes or using sampling techniques.\n",
        "\n",
        "2. **Quantum Phase Estimation (QPE)**  \n",
        "   Apply quantum phase estimation on a unitary operator derived from $\\rho$:\n",
        "\n",
        "   <center>$U = e^{-i\\rho t}$</center>\n",
        "   \n",
        "   QPE allows us to estimate the eigenvalues $\\lambda_j$ of $\\rho$ by encoding them into the state of an ancilla register.\n",
        "\n",
        "3. **Measurement and Extraction**  \n",
        "   Measure the ancilla register to obtain eigenvalue estimates. The output state will contain a superposition weighted by the dominant eigenvalues.\n",
        "\n",
        "---\n",
        "\n",
        "## Why Phase Estimation?\n",
        "\n",
        "**Quantum Phase Estimation (QPE)** is a key subroutine in QPCA. If a unitary operator $U$ has eigenvector $|v\\rangle$ and corresponding eigenvalue $e^{2\\pi i \\phi}$, QPE allows us to estimate $\\phi$ efficiently:\n",
        "\n",
        "<center>$U |v\\rangle = e^{2\\pi i \\phi} |v\\rangle \\quad \\Rightarrow \\quad \\text{QPE} \\rightarrow \\phi \\approx \\lambda$</center>\n",
        "\n",
        "Since $e^{-i\\rho t}$ is Hermitian and unitary, QPE applied to this operator gives estimates of the eigenvalues $\\lambda_j$ of $\\rho$.\n",
        "\n",
        "---\n",
        "\n",
        "## Comparison to Classical PCA\n",
        "\n",
        "| Feature                     | Classical PCA              | Quantum PCA (QPCA)             |\n",
        "|----------------------------|----------------------------|--------------------------------|\n",
        "| Operates on                | Covariance matrix          | Density matrix                 |\n",
        "| Data representation        | Vectors in $\\mathbb{R}^n$  | Quantum states                 |\n",
        "| Core operation             | Eigenvalue decomposition   | Quantum phase estimation       |\n",
        "| Output                     | Eigenvalues & vectors      | Encoded in quantum states      |\n",
        "| Efficiency (ideal case)    | $O(n^3)$                    | Potentially $\\log(n)$          |\n",
        "\n",
        "---\n",
        "\n",
        "## Practical Challenges\n",
        "\n",
        "- **Density Matrix Access**: QPCA assumes multiple identical copies of $\\rho$, which is hard to prepare on near-term devices.\n",
        "- **Noise Sensitivity**: Quantum circuits for QPE are deep and sensitive to decoherence.\n",
        "- **Scalability**: The exponential speedup holds primarily in theoretical settings or for specific structured data.\n",
        "\n",
        "Despite these challenges, QPCA remains a key theoretical tool in quantum machine learning and dimensionality reduction, with potential for hybrid or variational quantum-classical adaptations.\n",
        "\n",
        "---\n",
        "\n",
        "In the next section, we’ll implement a simplified simulation of QPCA using a 2×2 classical covariance matrix, map it to a density matrix, and apply tools to extract its principal components.\n"
      ],
      "metadata": {
        "id": "hMQYBQIbSfrR"
      }
    },
    {
      "cell_type": "markdown",
      "source": [
        "# Section 3: QPCA Implementation in Qiskit"
      ],
      "metadata": {
        "id": "VLe1x3hOXR3u"
      }
    },
    {
      "cell_type": "markdown",
      "source": [
        "In this section, we will simulate the Quantum Principal Component Analysis (QPCA) process using a toy dataset. While full QPCA involves deep quantum circuits and phase estimation, we’ll focus on the **core ideas** and **steps** using tools available in Qiskit.\n",
        "\n",
        "We will:\n",
        "1. Generate a small covariance matrix from a 2D classical dataset.\n",
        "2. Convert the matrix into a density matrix.\n",
        "3. Simulate eigenvalue decomposition.\n",
        "4. Visualize principal components and compare to classical PCA."
      ],
      "metadata": {
        "id": "01n2KPoWXXFY"
      }
    },
    {
      "cell_type": "markdown",
      "source": [
        "## Step 1: Create a 2D Toy Dataset and Covariance Matrix"
      ],
      "metadata": {
        "id": "p4LKJclNXgRE"
      }
    },
    {
      "cell_type": "code",
      "source": [
        "import numpy as np\n",
        "import matplotlib.pyplot as plt\n",
        "from sklearn.decomposition import PCA\n",
        "from sklearn.preprocessing import StandardScaler\n",
        "\n",
        "# Create 2D toy dataset\n",
        "# Set a random seed for reproducibility\n",
        "np.random.seed(42)\n",
        "\n",
        "# Number of samples to generate\n",
        "num_samples = 100  # 1 hundred samples\n",
        "\n",
        "# Generate a 2D dataset\n",
        "X = np.random.normal(loc=[2.0, 2.0], scale=[0.8, 0.8], size=(num_samples, 2))\n",
        "\n",
        "# Check shape and first few rows\n",
        "print(\"Shape of dataset:\", X.shape)\n",
        "print(\"First 5 rows:\\n\", X[:5])\n",
        "\n",
        "# Standardize the data\n",
        "scaler = StandardScaler()\n",
        "X_std = scaler.fit_transform(X)\n",
        "\n",
        "# Compute classical covariance matrix\n",
        "cov_matrix = np.cov(X_std.T)\n",
        "print(\"Covariance Matrix:\\n\", cov_matrix)\n",
        "\n",
        "# Visualize dataset\n",
        "plt.scatter(X_std[:, 0], X_std[:, 1], color='blue', label='Standardized Data')\n",
        "plt.xlabel(\"X1\")\n",
        "plt.ylabel(\"X2\")\n",
        "plt.title(\"Standardized 2D Dataset\")\n",
        "plt.grid(True)\n",
        "plt.legend()\n",
        "plt.show()"
      ],
      "metadata": {
        "colab": {
          "base_uri": "https://localhost:8080/",
          "height": 650
        },
        "id": "popzzUMqXqj-",
        "outputId": "8b19f031-eee7-4537-a2f3-5552e7260793"
      },
      "execution_count": null,
      "outputs": [
        {
          "output_type": "stream",
          "name": "stdout",
          "text": [
            "Shape of dataset: (100, 2)\n",
            "First 5 rows:\n",
            " [[2.39737132 1.88938856]\n",
            " [2.51815083 3.21842389]\n",
            " [1.8126773  1.81269043]\n",
            " [3.26337025 2.61394778]\n",
            " [1.62442049 2.43404803]]\n",
            "Covariance Matrix:\n",
            " [[1.01010101 0.03264854]\n",
            " [0.03264854 1.01010101]]\n"
          ]
        },
        {
          "output_type": "display_data",
          "data": {
            "text/plain": [
              "<Figure size 640x480 with 1 Axes>"
            ],
            "image/png": "[encoded data removed]"
          },
          "metadata": {}
        }
      ]
    },
    {
      "cell_type": "markdown",
      "source": [
        "## Step 2: Convert to a Density Matrix\n",
        "\n",
        "We now convert the classical covariance matrix into a **density matrix**. A valid density matrix must:\n",
        "- Be Hermitian\n",
        "- Have trace = 1\n",
        "- Be positive semi-definite\n",
        "\n",
        "To simulate this, we normalize the covariance matrix so that its trace becomes 1."
      ],
      "metadata": {
        "id": "BuwWeOtHXuP5"
      }
    },
    {
      "cell_type": "code",
      "source": [
        "# Normalize the classical covariance matrix to simulate a density matrix\n",
        "trace = np.trace(cov_matrix)\n",
        "density_matrix = cov_matrix / trace\n",
        "print(\"Density Matrix:\\n\", density_matrix)\n",
        "\n",
        "# Confirm it's valid\n",
        "print(\"Trace of density matrix:\", np.trace(density_matrix))"
      ],
      "metadata": {
        "colab": {
          "base_uri": "https://localhost:8080/"
        },
        "id": "hlgGp2x7XwAO",
        "outputId": "933ad62a-514f-4759-f4c5-9b1ba152d32b"
      },
      "execution_count": null,
      "outputs": [
        {
          "output_type": "stream",
          "name": "stdout",
          "text": [
            "Density Matrix:\n",
            " [[0.5        0.01616103]\n",
            " [0.01616103 0.5       ]]\n",
            "Trace of density matrix: 1.0\n"
          ]
        }
      ]
    },
    {
      "cell_type": "markdown",
      "source": [
        "## Step 3: Simulate QPCA in Qiskit\n",
        "\n",
        "In a full QPCA pipeline, we would apply **Quantum Phase Estimation (QPE)** to a unitary derived from the density matrix, such as:\n",
        "\n",
        "<center>$U = e^{-i\\rho t}$</center>\n",
        "\n",
        "QPE would then extract the eigenvalues $\\lambda_i$ (encoded as phases) and associate them with eigenvectors $|v_i\\rangle$.\n",
        "\n",
        "While exponentiating an arbitrary matrix like $\\rho$ is non-trivial on current simulators, we can simulate the effect of QPCA using these steps:\n",
        "\n",
        "1. Perform eigen decomposition of $\\rho$\n",
        "2. Initialize the leading eigenvector as a quantum state\n",
        "3. Use Qiskit to simulate this quantum state and visualize it\n",
        "\n",
        "This captures the spirit of QPCA while remaining accessible to learners."
      ],
      "metadata": {
        "id": "b-nZ-sAPXygQ"
      }
    },
    {
      "cell_type": "code",
      "source": [
        "# Perform classical eigen decomposition\n",
        "eigvals, eigvecs = np.linalg.eigh(density_matrix)\n",
        "sorted_indices = np.argsort(eigvals)[::-1]\n",
        "eigvals = eigvals[sorted_indices]\n",
        "eigvecs = eigvecs[:, sorted_indices]\n",
        "\n",
        "print(\"Eigenvalues (simulated QPCA):\", eigvals)\n",
        "print(\"Principal component (eigenvector 1):\", eigvecs[:, 0])"
      ],
      "metadata": {
        "colab": {
          "base_uri": "https://localhost:8080/"
        },
        "id": "WUgzp3X4X3W2",
        "outputId": "f23c0852-46ab-43e3-8c41-1861b62ac74e"
      },
      "execution_count": null,
      "outputs": [
        {
          "output_type": "stream",
          "name": "stdout",
          "text": [
            "Eigenvalues (simulated QPCA): [0.51616103 0.48383897]\n",
            "Principal component (eigenvector 1): [0.70710678 0.70710678]\n"
          ]
        }
      ]
    },
    {
      "cell_type": "markdown",
      "source": [
        "### Initialize Principal Component in Qiskit\n",
        "\n",
        "We now encode the dominant eigenvector as a quantum state and visualize it using Qiskit tools."
      ],
      "metadata": {
        "id": "lLI_hRrwfUNn"
      }
    },
    {
      "cell_type": "code",
      "source": [
        "# Install Qiskit and the Qiskit Aer module\n",
        "!pip install qiskit qiskit-aer pylatexenc --quiet\n",
        "\n",
        "from qiskit import QuantumCircuit\n",
        "from qiskit.quantum_info import Statevector\n",
        "from qiskit_aer import AerSimulator\n",
        "from qiskit.visualization import plot_bloch_multivector\n",
        "\n",
        "# Use the top eigenvector\n",
        "principal_component = eigvecs[:, 0]\n",
        "\n",
        "# Create circuit to initialize the state\n",
        "qc = QuantumCircuit(1)\n",
        "qc.initialize(principal_component, 0)\n",
        "qc.draw('mpl')"
      ],
      "metadata": {
        "colab": {
          "base_uri": "https://localhost:8080/",
          "height": 287
        },
        "id": "V85ycrHhfV-H",
        "outputId": "6e04764b-f341-468b-e595-193d62f5161e"
      },
      "execution_count": null,
      "outputs": [
        {
          "output_type": "stream",
          "name": "stdout",
          "text": [
            "\u001b[?25l     \u001b[90m━━━━━━━━━━━━━━━━━━━━━━━━━━━━━━━━━━━━━━━━\u001b[0m \u001b[32m0.0/162.6 kB\u001b[0m \u001b[31m?\u001b[0m eta \u001b[36m-:--:--\u001b[0m\r\u001b[2K     \u001b[91m━━━━━━━━━━━━━━━━━━━━━━━━━━━━━━━━━━\u001b[0m\u001b[91m╸\u001b[0m\u001b[90m━━\u001b[0m \u001b[32m153.6/162.6 kB\u001b[0m \u001b[31m101.4 MB/s\u001b[0m eta \u001b[36m0:00:01\u001b[0m\r\u001b[2K     \u001b[90m━━━━━━━━━━━━━━━━━━━━━━━━━━━━━━━━━━━━━━━\u001b[0m \u001b[32m162.6/162.6 kB\u001b[0m \u001b[31m2.7 MB/s\u001b[0m eta \u001b[36m0:00:00\u001b[0m\n",
            "\u001b[?25h  Preparing metadata (setup.py) ... \u001b[?25l\u001b[?25hdone\n",
            "\u001b[2K   \u001b[90m━━━━━━━━━━━━━━━━━━━━━━━━━━━━━━━━━━━━━━━━\u001b[0m \u001b[32m6.5/6.5 MB\u001b[0m \u001b[31m30.9 MB/s\u001b[0m eta \u001b[36m0:00:00\u001b[0m\n",
            "\u001b[2K   \u001b[90m━━━━━━━━━━━━━━━━━━━━━━━━━━━━━━━━━━━━━━━━\u001b[0m \u001b[32m12.4/12.4 MB\u001b[0m \u001b[31m51.7 MB/s\u001b[0m eta \u001b[36m0:00:00\u001b[0m\n",
            "\u001b[2K   \u001b[90m━━━━━━━━━━━━━━━━━━━━━━━━━━━━━━━━━━━━━━━━\u001b[0m \u001b[32m2.1/2.1 MB\u001b[0m \u001b[31m19.5 MB/s\u001b[0m eta \u001b[36m0:00:00\u001b[0m\n",
            "\u001b[2K   \u001b[90m━━━━━━━━━━━━━━━━━━━━━━━━━━━━━━━━━━━━━━━━\u001b[0m \u001b[32m49.5/49.5 kB\u001b[0m \u001b[31m1.2 MB/s\u001b[0m eta \u001b[36m0:00:00\u001b[0m\n",
            "\u001b[2K   \u001b[90m━━━━━━━━━━━━━━━━━━━━━━━━━━━━━━━━━━━━━━━━\u001b[0m \u001b[32m49.7/49.7 MB\u001b[0m \u001b[31m12.2 MB/s\u001b[0m eta \u001b[36m0:00:00\u001b[0m\n",
            "\u001b[2K   \u001b[90m━━━━━━━━━━━━━━━━━━━━━━━━━━━━━━━━━━━━━━━━\u001b[0m \u001b[32m109.0/109.0 kB\u001b[0m \u001b[31m4.6 MB/s\u001b[0m eta \u001b[36m0:00:00\u001b[0m\n",
            "\u001b[?25h  Building wheel for pylatexenc (setup.py) ... \u001b[?25l\u001b[?25hdone\n"
          ]
        },
        {
          "output_type": "execute_result",
          "data": {
            "text/plain": [
              "<Figure size 269.064x117.056 with 1 Axes>"
            ],
            "image/png": "[encoded data removed]"
          },
          "metadata": {},
          "execution_count": 4
        }
      ]
    },
    {
      "cell_type": "code",
      "source": [
        "# Simulate statevector and visualize on Bloch sphere\n",
        "state = Statevector.from_instruction(qc)\n",
        "print(\"Simulated quantum state:\", state)\n",
        "\n",
        "plot_bloch_multivector(state)\n",
        "plt.show()"
      ],
      "metadata": {
        "id": "b8E0rQTwfbDd",
        "colab": {
          "base_uri": "https://localhost:8080/"
        },
        "outputId": "14f93f88-3d48-4d49-f639-b03b88d432b9"
      },
      "execution_count": null,
      "outputs": [
        {
          "output_type": "stream",
          "name": "stdout",
          "text": [
            "Simulated quantum state: Statevector([0.70710678+0.j, 0.70710678+0.j],\n",
            "            dims=(2,))\n"
          ]
        }
      ]
    },
    {
      "cell_type": "markdown",
      "source": [
        "## (Optional) Visualizing QPE Setup (Skeleton)\n",
        "\n",
        "Below is a skeleton of how Quantum Phase Estimation (QPE) might be structured in a real QPCA pipeline.\n",
        "Instead of implementing a full exponential unitary, we show a mock version using controlled rotation gates.\n",
        "\n",
        "This is for **educational purposes** and shows how eigenvalue information would be extracted into an ancilla register."
      ],
      "metadata": {
        "id": "7fcN0h4kfjSj"
      }
    },
    {
      "cell_type": "code",
      "source": [
        "from qiskit.circuit.library import QFT\n",
        "from qiskit import QuantumRegister, ClassicalRegister, QuantumCircuit\n",
        "\n",
        "# QPE structure: 2 ancilla qubits + 1 target qubit\n",
        "ancilla = QuantumRegister(2, 'ancilla')\n",
        "target = QuantumRegister(1, 'target')\n",
        "cr = ClassicalRegister(2, 'c')\n",
        "qc_qpe = QuantumCircuit(ancilla, target, cr)\n",
        "\n",
        "# Initialize target qubit with principal component\n",
        "qc_qpe.initialize(principal_component, target[0])\n",
        "\n",
        "# Apply Hadamards to ancilla qubits\n",
        "qc_qpe.h(ancilla)\n",
        "\n",
        "# Mock controlled-U using controlled rotations\n",
        "qc_qpe.crz(2 * np.pi / 4, ancilla[0], target[0])\n",
        "qc_qpe.crz(2 * np.pi / 2, ancilla[1], target[0])\n",
        "\n",
        "# Apply inverse QFT\n",
        "qc_qpe.append(QFT(num_qubits=2, inverse=True, do_swaps=True), ancilla)\n",
        "\n",
        "# Measure ancilla\n",
        "qc_qpe.measure(ancilla, cr)\n",
        "\n",
        "qc_qpe.draw('mpl')"
      ],
      "metadata": {
        "id": "K4J5Vm4AflQM",
        "colab": {
          "base_uri": "https://localhost:8080/",
          "height": 320
        },
        "outputId": "0d5a23c1-b146-429f-eb21-ee35d9c4a5cc"
      },
      "execution_count": null,
      "outputs": [
        {
          "output_type": "execute_result",
          "data": {
            "text/plain": [
              "<Figure size 781.465x367.889 with 1 Axes>"
            ],
            "image/png": "[encoded data removed]"
          },
          "metadata": {},
          "execution_count": 6
        }
      ]
    },
    {
      "cell_type": "markdown",
      "source": [
        "Note: This is a **simplified mock-up**.\n",
        "True QPCA would involve $U = e^{-i \\rho t}$ using multiple copies of $\\rho$, which is beyond current Qiskit capabilities. However, this structure captures how quantum phase estimation operates in principle."
      ],
      "metadata": {
        "id": "3ABG_BWJftoI"
      }
    },
    {
      "cell_type": "markdown",
      "source": [
        "## Step 4: Visualize Principal Components and Compare to Classical PCA\n",
        "\n",
        "Now that we've approximated the principal components of our dataset using a simulated QPCA process, let's visualize them on the original standardized data. This helps us interpret how the quantum-encoded components relate to the original feature space.\n",
        "\n",
        "We overlay the top eigenvectors (principal components) on a scatter plot of the dataset for direct visual comparison."
      ],
      "metadata": {
        "id": "XHwTl7G1X56k"
      }
    },
    {
      "cell_type": "code",
      "source": [
        "# Plot original data with principal components\n",
        "origin = np.mean(X_std, axis=0)\n",
        "\n",
        "plt.figure(figsize=(6,6))\n",
        "plt.scatter(X_std[:, 0], X_std[:, 1], alpha=0.5, label='Data')\n",
        "\n",
        "# Draw principal components as arrows\n",
        "for i in range(2):\n",
        "    plt.arrow(origin[0], origin[1],\n",
        "              eigvecs[0, i]*eigvals[i]*2,\n",
        "              eigvecs[1, i]*eigvals[i]*2,\n",
        "              color='r', width=0.01, head_width=0.1,\n",
        "              label=f\"Principal Component {i+1}\" if i==0 else None)\n",
        "\n",
        "plt.xlabel(\"X1\")\n",
        "plt.ylabel(\"X2\")\n",
        "plt.title(\"Principal Components via Simulated QPCA\")\n",
        "plt.legend()\n",
        "plt.grid(True)\n",
        "plt.axis('equal')\n",
        "plt.show()"
      ],
      "metadata": {
        "id": "nGB79pdwX8vE",
        "colab": {
          "base_uri": "https://localhost:8080/",
          "height": 564
        },
        "outputId": "9de26c77-9bdc-4ca1-9b6d-50ac047e1093"
      },
      "execution_count": null,
      "outputs": [
        {
          "output_type": "display_data",
          "data": {
            "text/plain": [
              "<Figure size 600x600 with 1 Axes>"
            ],
            "image/png": "[encoded data removed]"
          },
          "metadata": {}
        }
      ]
    },
    {
      "cell_type": "markdown",
      "source": [
        "With this simulation, we have now implemented the key components of QPCA in a hybrid approach — combining classical matrix analysis with quantum state preparation and visualization.\n",
        "\n",
        "In the next section, we will present an activity that allows learners to try these steps on different data inputs."
      ],
      "metadata": {
        "id": "5P-K0T7ZYAuN"
      }
    },
    {
      "cell_type": "markdown",
      "source": [
        "# Section 4: Activity for Learners – Explore QPCA with New Data"
      ],
      "metadata": {
        "id": "XutWXdgdRLgI"
      }
    },
    {
      "cell_type": "markdown",
      "source": [
        "In this activity, you will apply the QPCA simulation steps to a new dataset and observe how the principal components change. This hands-on task reinforces understanding of quantum-state-based dimensionality reduction and offers a chance to compare results with classical PCA.\n",
        "\n",
        "---\n",
        "\n",
        "## Task Instructions\n",
        "\n",
        "### Part A – Apply QPCA to a New Dataset\n",
        "\n",
        "1. Create a new 2D dataset of 10–15 samples.  \n",
        "2. Standardize the dataset.  \n",
        "3. Compute its covariance matrix and normalize it to a density matrix.  \n",
        "4. Perform eigen decomposition to get simulated QPCA results.  \n",
        "5. Initialize the top eigenvector as a quantum state and visualize it using Qiskit.  \n",
        "6. Plot the principal components over the dataset using arrows.\n",
        "\n",
        "---\n",
        "\n",
        "### Part B – Compare with Classical PCA\n",
        "\n",
        "1. Use `sklearn`'s `PCA` to compute classical principal components.  \n",
        "2. Overlay the classical PCA components on the same dataset plot.  \n",
        "3. Discuss how similar or different the directions and magnitudes of the components are.\n",
        "\n",
        "---\n",
        "\n",
        "## Optional Challenge:\n",
        "\n",
        "Use a **non-Gaussian or skewed dataset** and analyze how QPCA components behave versus classical PCA. For instance, use points that form an arc, cluster, or elongated blob.\n",
        "\n",
        "---\n",
        "\n",
        "## Starter Code Template\n",
        "\n",
        "Here’s a starting point for your experiment:\n",
        "\n",
        "```python\n",
        "# Create a new dataset\n",
        "X_new = np.array([\n",
        "    [1.0, 2.1], [1.5, 2.5], [2.0, 3.0], [2.5, 3.5],\n",
        "    [3.0, 3.8], [3.5, 4.0], [4.0, 4.1], [4.5, 4.3],\n",
        "    [5.0, 4.5], [5.5, 4.6], [6.0, 4.7]\n",
        "])\n",
        "\n",
        "# Continue with:\n",
        "# - Standardization\n",
        "# - Covariance → Density Matrix\n",
        "# - QPCA mock (Eigen Decomposition)\n",
        "# - Statevector Init\n",
        "# - Classical PCA Comparison\n"
      ],
      "metadata": {
        "id": "FoO0cDQoRgf5"
      }
    },
    {
      "cell_type": "markdown",
      "source": [
        "## Activity Solution – QPCA vs Classical PCA\n"
      ],
      "metadata": {
        "id": "L22CnUtNxo1L"
      }
    },
    {
      "cell_type": "code",
      "source": [
        "# Import required libraries\n",
        "import numpy as np\n",
        "import matplotlib.pyplot as plt\n",
        "from sklearn.preprocessing import StandardScaler\n",
        "from sklearn.decomposition import PCA\n",
        "\n",
        "# Define a new 2D dataset\n",
        "X_new = np.array([\n",
        "    [1.0, 2.1], [1.5, 2.5], [2.0, 3.0], [2.5, 3.5],\n",
        "    [3.0, 3.8], [3.5, 4.0], [4.0, 4.1], [4.5, 4.3],\n",
        "    [5.0, 4.5], [5.5, 4.6], [6.0, 4.7]\n",
        "])\n",
        "\n",
        "# Standardize\n",
        "scaler = StandardScaler()\n",
        "X_std = scaler.fit_transform(X_new)\n",
        "\n",
        "# Compute covariance and density matrix\n",
        "cov_matrix_new = np.cov(X_std.T)\n",
        "density_matrix_new = cov_matrix_new / np.trace(cov_matrix_new)\n",
        "\n",
        "# Eigen decomposition (simulated QPCA)\n",
        "eigvals_qpca, eigvecs_qpca = np.linalg.eigh(density_matrix_new)\n",
        "sorted_idx = np.argsort(eigvals_qpca)[::-1]\n",
        "eigvals_qpca = eigvals_qpca[sorted_idx]\n",
        "eigvecs_qpca = eigvecs_qpca[:, sorted_idx]\n",
        "print(\"QPCA Eigenvalues:\", eigvals_qpca)\n",
        "print(\"QPCA Eigenvectors:\\n\", eigvecs_qpca)\n",
        "\n",
        "# Classical PCA\n",
        "pca = PCA(n_components=2)\n",
        "pca.fit(X_std)\n",
        "eigvals_classical = pca.explained_variance_ratio_\n",
        "eigvecs_classical = pca.components_\n",
        "print(\"Classical PCA Components:\\n\", eigvecs_classical)"
      ],
      "metadata": {
        "colab": {
          "base_uri": "https://localhost:8080/"
        },
        "id": "5k0rqFUXxuVJ",
        "outputId": "8ae58eae-df6f-4f67-e21b-8c4ff3e1bc97"
      },
      "execution_count": null,
      "outputs": [
        {
          "output_type": "stream",
          "name": "stdout",
          "text": [
            "QPCA Eigenvalues: [0.98120225 0.01879775]\n",
            "QPCA Eigenvectors:\n",
            " [[ 0.70710678 -0.70710678]\n",
            " [ 0.70710678  0.70710678]]\n",
            "Classical PCA Components:\n",
            " [[ 0.70710678  0.70710678]\n",
            " [ 0.70710678 -0.70710678]]\n"
          ]
        }
      ]
    },
    {
      "cell_type": "markdown",
      "source": [
        "### Visualize Both QPCA and Classical PCA Components\n"
      ],
      "metadata": {
        "id": "-4xK1vEVxwwO"
      }
    },
    {
      "cell_type": "code",
      "source": [
        "origin = np.mean(X_std, axis=0)\n",
        "\n",
        "plt.figure(figsize=(6, 6))\n",
        "plt.scatter(X_std[:, 0], X_std[:, 1], alpha=0.6, label='Data')\n",
        "\n",
        "# QPCA vectors\n",
        "for i in range(2):\n",
        "    plt.arrow(origin[0], origin[1],\n",
        "              eigvecs_qpca[0, i]*eigvals_qpca[i]*3,\n",
        "              eigvecs_qpca[1, i]*eigvals_qpca[i]*3,\n",
        "              color='r', width=0.01, head_width=0.1,\n",
        "              label=f\"QPCA PC {i+1}\" if i == 0 else None)\n",
        "\n",
        "# Classical PCA vectors\n",
        "for i in range(2):\n",
        "    plt.arrow(origin[0], origin[1],\n",
        "              eigvecs_classical[i, 0]*eigvals_classical[i]*3,\n",
        "              eigvecs_classical[i, 1]*eigvals_classical[i]*3,\n",
        "              color='g', width=0.01, head_width=0.1,\n",
        "              label=f\"Classical PC {i+1}\" if i == 0 else None)\n",
        "\n",
        "plt.xlabel(\"Feature 1\")\n",
        "plt.ylabel(\"Feature 2\")\n",
        "plt.title(\"QPCA vs Classical PCA on New Dataset\")\n",
        "plt.legend()\n",
        "plt.grid(True)\n",
        "plt.axis('equal')\n",
        "plt.show()"
      ],
      "metadata": {
        "colab": {
          "base_uri": "https://localhost:8080/",
          "height": 564
        },
        "id": "iQEN8gYzx067",
        "outputId": "b4dad98e-3473-41b2-bd7a-2ae32728624d"
      },
      "execution_count": null,
      "outputs": [
        {
          "output_type": "display_data",
          "data": {
            "text/plain": [
              "<Figure size 600x600 with 1 Axes>"
            ],
            "image/png": "[encoded data removed]"
          },
          "metadata": {}
        }
      ]
    },
    {
      "cell_type": "markdown",
      "source": [
        "## Observations\n",
        "\n",
        "- The principal directions obtained from QPCA (via eigendecomposition of the density matrix) are very similar to those from classical PCA.\n",
        "- QPCA approximates the same high-variance directions but through a quantum-aligned lens — state vectors and density operators.\n",
        "- This validates the idea that QPCA can serve as a quantum analog to classical PCA for dimensionality reduction."
      ],
      "metadata": {
        "id": "zZLajUegx5ea"
      }
    },
    {
      "cell_type": "markdown",
      "source": [
        "# Section 5: Discussion and Analysis"
      ],
      "metadata": {
        "id": "pOFBK7J8yTtu"
      }
    },
    {
      "cell_type": "markdown",
      "source": [
        "In this notebook, we simulated the essential steps of **Quantum Principal Component Analysis (QPCA)** using classical tools and Qiskit visualization. This allowed us to understand the conceptual foundations of QPCA while working within the constraints of today’s quantum simulation capabilities.\n",
        "\n",
        "---\n",
        "\n",
        "## Observations from the Simulation\n",
        "\n",
        "1. **Eigenvalue Decomposition of Density Matrix**  \n",
        "   - By normalizing the classical covariance matrix, we simulated a valid quantum density matrix.\n",
        "   - Classical eigenvalue decomposition of this matrix gave us a set of \"quantum principal components\" analogous to classical PCA.\n",
        "\n",
        "2. **Quantum State Initialization**  \n",
        "   - Using Qiskit’s `initialize()` function, we encoded the leading eigenvector into a quantum circuit.\n",
        "   - Visualization via the Bloch sphere provided a helpful interpretation of how such components might behave in quantum systems.\n",
        "\n",
        "3. **Comparison with Classical PCA**  \n",
        "   - The simulated QPCA and classical PCA yielded **similar component directions**, confirming the validity of the quantum analog in this small-scale case.\n",
        "   - QPCA also provided a new way to conceptualize feature directions as **quantum states**, offering a fundamentally different computational perspective.\n",
        "\n",
        "---\n",
        "\n",
        "## Key Takeaways\n",
        "\n",
        "- QPCA can, in principle, perform dimensionality reduction **without explicitly constructing the full covariance matrix**, by leveraging quantum parallelism.\n",
        "- It offers a **compact quantum representation of principal components** and opens the door for more efficient processing in quantum-native formats.\n",
        "- In practice, challenges such as density matrix preparation and error rates make full QPCA infeasible on current hardware — but hybrid approaches or variational approximations are promising.\n",
        "\n",
        "---\n",
        "\n",
        "## Limitations of This Implementation\n",
        "\n",
        "- We did not implement a true exponential unitary $e^{-i \\rho t}$ or perform actual phase estimation, as these require deep circuits and multiple copies of $\\rho$.\n",
        "- The simulation was restricted to 1-qubit examples due to visualization limitations and the dimensionality of our toy data.\n",
        "- Our QPCA simulation is an approximation — it demonstrates the **workflow and logic** but not the full quantum algorithm.\n",
        "\n",
        "---\n",
        "\n",
        "## Future Directions\n",
        "\n",
        "- Explore **Variational Quantum PCA (VQPCA)** techniques that optimize principal components with shallow circuits.\n",
        "- Scale up to **multi-qubit density matrices** and explore entangled principal components.\n",
        "- Integrate QPCA-preprocessed data into **quantum machine learning classifiers** (e.g., quantum SVMs or VQCs).\n",
        "- Study **hybrid pipelines** where classical data is transformed into quantum states for selective dimensionality reduction.\n",
        "\n",
        "---\n",
        "\n",
        "This analysis demonstrates the potential of quantum-enhanced data preprocessing and highlights both the opportunities and current boundaries in applying QPCA in practical workflows.\n"
      ],
      "metadata": {
        "id": "uJjKS5wgyflr"
      }
    },
    {
      "cell_type": "markdown",
      "source": [
        "# 6. Summary and Key Takeaways"
      ],
      "metadata": {
        "id": "0YQ5VZTazIBW"
      }
    },
    {
      "cell_type": "markdown",
      "source": [
        "In this notebook, we explored the concept and simulation of **Quantum Principal Component Analysis (QPCA)**, a quantum analog to classical PCA designed for dimensionality reduction and feature extraction on quantum data.\n",
        "\n",
        "---\n",
        "\n",
        "## What We Did\n",
        "\n",
        "- We began by reviewing the theory behind PCA and extended it to the quantum domain using the concept of density matrices and quantum phase estimation.\n",
        "- A small classical dataset was used to construct a covariance matrix, which we normalized into a **density matrix** suitable for QPCA simulation.\n",
        "- Through eigenvalue decomposition, we obtained the **principal quantum components** and used Qiskit to encode and visualize these components as quantum states.\n",
        "- We also constructed a **mock QPE circuit** to give learners an intuitive feel for how QPCA circuits might look in practice.\n",
        "- Finally, we **compared the results** of our simulated QPCA with classical PCA using visual and quantitative tools.\n",
        "\n",
        "---\n",
        "\n",
        "## Key Learnings\n",
        "\n",
        "- **QPCA shares conceptual goals with classical PCA** — identifying principal components that capture maximum variance — but achieves this via quantum operations on density matrices.\n",
        "- Simulated QPCA provides **quantum insights into feature space orientation**, visualized through statevector initialization and Bloch spheres.\n",
        "- While full QPCA is currently constrained by hardware limitations, simulations like this help bridge the gap between classical understanding and quantum intuition.\n",
        "\n",
        "---\n",
        "\n",
        "## Looking Ahead\n",
        "\n",
        "This notebook serves as a foundation for integrating QPCA into more advanced quantum ML pipelines. In the next and final stage of the project, we will demonstrate how quantum preprocessing — including encoding, tomography, and dimensionality reduction — can be incorporated into a **quantum-classical machine learning workflow**, highlighting its practical relevance.\n",
        "\n"
      ],
      "metadata": {
        "id": "9Mn7CRaqzNML"
      }
    }
  ]
}