{
  "nbformat": 4,
  "nbformat_minor": 0,
  "metadata": {
    "colab": {
      "provenance": []
    },
    "kernelspec": {
      "name": "python3",
      "display_name": "Python 3"
    },
    "language_info": {
      "name": "python"
    }
  },
  "cells": [
    {
      "cell_type": "markdown",
      "source": [
        "**Quiz - Feature Encoding and Dimensionality Reduction**"
      ],
      "metadata": {
        "id": "61k7MAJGGuyo"
      }
    },
    {
      "cell_type": "markdown",
      "source": [
        "1.What is the primary purpose of quantum feature encoding in machine learning pipelines?\n",
        "\n",
        "A) To transform classical data into quantum states for processing\n",
        "\n",
        "B) To store data in classical databases\n",
        "\n",
        "C) To reduce the number of classical features\n",
        "\n",
        "D) To generate classical kernels for SVM"
      ],
      "metadata": {
        "id": "AFpLPHcpG0_o"
      }
    },
    {
      "cell_type": "markdown",
      "source": [
        "2.In angle encoding, classical features are encoded as:\n",
        "\n",
        "A) Parameters of quantum error correction\n",
        "\n",
        "B) Qubit entanglement strengths\n",
        "\n",
        "C) Rotation angles of quantum gates\n",
        "\n",
        "D) Measurement probabilities"
      ],
      "metadata": {
        "id": "grXJOqRHHTAZ"
      }
    },
    {
      "cell_type": "markdown",
      "source": [
        "3.What advantage do quantum feature maps provide over classical feature maps?\n",
        "\n",
        "A) Require fewer data samples\n",
        "\n",
        "B) Mapping data into higher-dimensional Hilbert spaces\n",
        "\n",
        "C) Lower computational complexity\n",
        "\n",
        "D) Eliminate noise in the data"
      ],
      "metadata": {
        "id": "QRDIQd_EHl8y"
      }
    },
    {
      "cell_type": "markdown",
      "source": [
        "4.Which quantum circuit is commonly used to create entangling feature maps?\n",
        "\n",
        "A) Quantum Fourier Transform\n",
        "\n",
        "B) ZZFeatureMap\n",
        "\n",
        "C) Grover’s diffusion operator\n",
        "\n",
        "D) Pauli-X gate circuit"
      ],
      "metadata": {
        "id": "IAiO5PXMHO04"
      }
    },
    {
      "cell_type": "markdown",
      "source": [
        "5.Quantum kernels in ML pipelines measure:\n",
        "\n",
        "A) The output of classical neural networks\n",
        "\n",
        "B) The probability of qubit decoherence\n",
        "\n",
        "C) The inner product of quantum states representing data points\n",
        "\n",
        "D) The distance between classical data points"
      ],
      "metadata": {
        "id": "6htF7yKWH3XU"
      }
    },
    {
      "cell_type": "markdown",
      "source": [
        "6.The kernel trick in SVM allows:\n",
        "\n",
        "A) Performing quantum state tomography\n",
        "\n",
        "B) Operating in a high-dimensional feature space without explicit mapping\n",
        "\n",
        "C) Explicitly mapping data to higher-dimensional space\n",
        "\n",
        "D) Reducing the dimensionality of data"
      ],
      "metadata": {
        "id": "JoCinRbdIFM-"
      }
    },
    {
      "cell_type": "markdown",
      "source": [
        "7.What type of dataset was used to demonstrate quantum kernel-based SVM classification in the notebooks?\n",
        "\n",
        "A) CIFAR-10 dataset\n",
        "\n",
        "B) Iris dataset\n",
        "\n",
        "C) MNIST dataset\n",
        "\n",
        "D) Fashion MNIST"
      ],
      "metadata": {
        "id": "AQeVEjfTINVi"
      }
    },
    {
      "cell_type": "markdown",
      "source": [
        "8.What is the main goal of dimensionality reduction in quantum ML pipelines?\n",
        "\n",
        "A) Increase measurement error\n",
        "\n",
        "B) Improve interpretability and reduce noise\n",
        "\n",
        "C) Increase qubit count\n",
        "\n",
        "D) Slow down quantum circuits"
      ],
      "metadata": {
        "id": "UooiMcmMIlvk"
      }
    },
    {
      "cell_type": "markdown",
      "source": [
        "9.Variational Quantum Autoencoders (VQAEs) combine:\n",
        "\n",
        "A) Parameterized quantum circuits as encoders and classical decoders\n",
        "\n",
        "B) Classical data encoding and quantum measurement\n",
        "\n",
        "C) Multiple quantum circuits without classical components\n",
        "\n",
        "D) Classical autoencoders with no quantum part"
      ],
      "metadata": {
        "id": "LR6X_zSNItCn"
      }
    },
    {
      "cell_type": "markdown",
      "source": [
        "10.What is the role of the classical decoder in a hybrid quantum-classical autoencoder?\n",
        "\n",
        "A) Generate quantum noise\n",
        "\n",
        "B) Decode compressed quantum features back to classical space\n",
        "\n",
        "C) Encode classical data into qubits\n",
        "\n",
        "D) Perform quantum error correction"
      ],
      "metadata": {
        "id": "r8YwJoPzI17n"
      }
    },
    {
      "cell_type": "markdown",
      "source": [
        "11.Quantum data reuploading increases expressivity by:\n",
        "\n",
        "A) Using only one layer of data encoding\n",
        "\n",
        "B) Applying classical post-processing multiple times\n",
        "\n",
        "C) Increasing the number of qubits exponentially\n",
        "\n",
        "D) Encoding classical data multiple times in variational circuits"
      ],
      "metadata": {
        "id": "oXPOr7ZmI-Tk"
      }
    },
    {
      "cell_type": "markdown",
      "source": [
        "12.What does parameter optimization in variational quantum embeddings achieve?\n",
        "\n",
        "A) Tunes encoding parameters to improve feature distinguishability\n",
        "\n",
        "B) Fixes the quantum state permanently\n",
        "\n",
        "C) Eliminates the need for classical optimization\n",
        "\n",
        "D) Automatically increases qubit counts"
      ],
      "metadata": {
        "id": "dfONTekPJT0u"
      }
    },
    {
      "cell_type": "markdown",
      "source": [
        "13.Quantum transfer learning helps by:\n",
        "\n",
        "A) Avoiding quantum circuits altogether\n",
        "\n",
        "B) Training a quantum model completely from scratch for each task\n",
        "\n",
        "C) Reusing pretrained quantum circuits on related tasks\n",
        "\n",
        "D) Only using classical machine learning models"
      ],
      "metadata": {
        "id": "uzcGH3z8JZxq"
      }
    },
    {
      "cell_type": "markdown",
      "source": [
        "14.Which of the following best describes the role of quantum state tomography?\n",
        "\n",
        "A) Encoding classical data into quantum states\n",
        "\n",
        "B) Running classical neural networks on quantum data\n",
        "\n",
        "C) Reconstructing quantum states from measurement data\n",
        "\n",
        "D) Training quantum circuits for classification"
      ],
      "metadata": {
        "id": "i19c2nudJkXg"
      }
    },
    {
      "cell_type": "markdown",
      "source": [
        "15.What is a key challenge in training variational quantum circuits?\n",
        "\n",
        "A) Quantum circuits never suffer from noise\n",
        "\n",
        "B) Parameter tuning is computationally intensive and noise sensitive\n",
        "\n",
        "C) Data encoding is trivial in all cases\n",
        "\n",
        "D) All classical optimizers work perfectly without adaptation"
      ],
      "metadata": {
        "id": "aswQUKsaJp8Q"
      }
    },
    {
      "cell_type": "markdown",
      "source": [
        "16.How does the TwoLayerQNN combine feature maps and ansatz circuits?\n",
        "\n",
        "A) By ignoring the feature map and only training the ansatz\n",
        "\n",
        "B) By performing classical PCA inside the quantum circuit\n",
        "\n",
        "C) By using feature maps for encoding and ansatz for trainable transformations\n",
        "\n",
        "D) By concatenating classical features directly"
      ],
      "metadata": {
        "id": "E9jdLeQ0Jxsn"
      }
    },
    {
      "cell_type": "markdown",
      "source": [
        "17.Which classical method is typically used after quantum measurement data for visualization and further processing?\n",
        "\n",
        "A) Principal Component Analysis (PCA)\n",
        "\n",
        "B) Support Vector Machines\n",
        "\n",
        "C) K-means clustering\n",
        "\n",
        "D) Linear regression"
      ],
      "metadata": {
        "id": "Eg1NPh8TJ5v7"
      }
    },
    {
      "cell_type": "markdown",
      "source": [
        "18.Why are simulators often used in quantum ML development?\n",
        "\n",
        "A) Because quantum hardware is noisy and limited in qubit count\n",
        "\n",
        "B) They eliminate the need for quantum error correction\n",
        "\n",
        "C) They are faster than classical hardware\n",
        "\n",
        "D) They do not require classical computers"
      ],
      "metadata": {
        "id": "wywtUiUgKAZp"
      }
    },
    {
      "cell_type": "markdown",
      "source": [
        "19.In the TorchConnector framework, what is the role of TorchConnector?\n",
        "\n",
        "A) To measure qubit decoherence\n",
        "\n",
        "B) To interface quantum neural networks with PyTorch models\n",
        "\n",
        "C) To convert quantum circuits into classical datasets\n",
        "\n",
        "D) To run quantum circuits on GPU hardware only"
      ],
      "metadata": {
        "id": "mpCsLOZ3KJDP"
      }
    },
    {
      "cell_type": "markdown",
      "source": [
        "20.What is the advantage of hybrid quantum-classical ML pipelines?\n",
        "\n",
        "A) They require no quantum resources\n",
        "\n",
        "B) They combine quantum feature extraction with classical model flexibility\n",
        "\n",
        "C) They operate solely on classical hardware\n",
        "\n",
        "D) They only work for binary classification tasks\n",
        "\n"
      ],
      "metadata": {
        "id": "CkrpNlnQKPAX"
      }
    },
    {
      "cell_type": "markdown",
      "source": [
        "Answer Key:\n",
        "\n",
        "1. A\n",
        "2. C\n",
        "3. B\n",
        "4. B\n",
        "5. C\n",
        "6. B\n",
        "7. B\n",
        "8. B\n",
        "9. A\n",
        "10. B\n",
        "11. D\n",
        "12. A\n",
        "13. C\n",
        "14. C\n",
        "15. B\n",
        "16. C\n",
        "17. A\n",
        "18. A\n",
        "19. B\n",
        "20. B\n",
        "\n"
      ],
      "metadata": {
        "id": "tgzasUpWKlO1"
      }
    }
  ]
}